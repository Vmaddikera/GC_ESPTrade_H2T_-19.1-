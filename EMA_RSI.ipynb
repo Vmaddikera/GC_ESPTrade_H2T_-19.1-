{
 "cells": [
  {
   "cell_type": "code",
   "execution_count": 2,
   "id": "c6e5429f",
   "metadata": {},
   "outputs": [
    {
     "name": "stderr",
     "output_type": "stream",
     "text": [
      "/var/folders/sb/zlj0j6815770nsgqbs9m4bg40000gn/T/ipykernel_5682/2007114171.py:65: UserWarning: Parsing dates in %d-%m-%Y %H:%M format when dayfirst=False (the default) was specified. Pass `dayfirst=True` or specify a format to silence this warning.\n",
      "  data['time'] = pd.to_datetime(data['time'])\n"
     ]
    },
    {
     "name": "stdout",
     "output_type": "stream",
     "text": [
      "Total Profit: 143.1894\n",
      "Total Trades Executed: 361\n"
     ]
    }
   ],
   "source": [
    "import pandas as pd\n",
    "import numpy as np\n",
    "\n",
    "# Function to calculate Exponential Moving Average (EMA)\n",
    "def calculate_ema(data, window):\n",
    "    return data['close'].ewm(span=window, adjust=False).mean()\n",
    "\n",
    "# Function to calculate Relative Strength Index (RSI)\n",
    "def calculate_rsi(data, window):\n",
    "    diff = data['close'].diff()\n",
    "    gain = (diff.where(diff > 0, 0)).rolling(window=window).mean()\n",
    "    loss = (-diff.where(diff < 0, 0)).rolling(window=window).mean()\n",
    "    rs = gain / loss\n",
    "    rsi = 100 - (100 / (1 + rs))\n",
    "    return rsi\n",
    "\n",
    "# Function to generate trading signals\n",
    "def generate_signals(data):\n",
    "    ema_50 = calculate_ema(data, 50)\n",
    "    ema_200 = calculate_ema(data, 200)\n",
    "    data['RSI'] = calculate_rsi(data, 14)\n",
    "    \n",
    "    data['Signal'] = np.where((data['close'] > ema_50) & (ema_50 > ema_200) & (data['RSI'] < 30), 'Buy', '')\n",
    "    data['Signal'] = np.where((data['close'] < ema_50) & (ema_50 < ema_200) & (data['RSI'] > 70), 'Sell', data['Signal'])\n",
    "\n",
    "    return data\n",
    "\n",
    "# Function to calculate profits\n",
    "def calculate_profits(data):\n",
    "    capital = 10000  # Initial capital\n",
    "    position = 0     # 0: No position, 1: Long (Buy), -1: Short (Sell)\n",
    "    buy_price = 0    # Price at which we bought\n",
    "    total_trades = 0 # Total number of trades executed\n",
    "    profit = 0       # Total profit\n",
    "    \n",
    "    for index, row in data.iterrows():\n",
    "        if row['Signal'] == 'Buy' and position != 1:  # Buy signal and not already in long position\n",
    "            if position == -1:  # If in short position, close it\n",
    "                profit += sell_price - row['close']\n",
    "                position = 0\n",
    "                total_trades += 1\n",
    "            buy_price = row['close']\n",
    "            position = 1\n",
    "        elif row['Signal'] == 'Sell' and position != -1:  # Sell signal and not already in short position\n",
    "            if position == 1:  # If in long position, close it\n",
    "                profit += row['close'] - buy_price\n",
    "                position = 0\n",
    "                total_trades += 1\n",
    "            sell_price = row['close']\n",
    "            position = -1\n",
    "    \n",
    "    # If still in position at the end, close it based on the last price\n",
    "    if position == 1:\n",
    "        profit += data.iloc[-1]['close'] - buy_price\n",
    "        total_trades += 1\n",
    "    elif position == -1:\n",
    "        profit += sell_price - data.iloc[-1]['close']\n",
    "        total_trades += 1\n",
    "    \n",
    "    return profit, total_trades\n",
    "\n",
    "# Load OHLCV data from Excel file\n",
    "excel_file_path = 'TSLA_1min_market_price_data.csv'\n",
    "data = pd.read_csv(excel_file_path)\n",
    "data['time'] = pd.to_datetime(data['time'])\n",
    "data.set_index('time', inplace=True)\n",
    "\n",
    "# Generate trading signals\n",
    "data_with_signals = generate_signals(data)\n",
    "\n",
    "# Calculate profits\n",
    "profit, total_trades = calculate_profits(data_with_signals)\n",
    "\n",
    "# Print the data with signals\n",
    "print(\"Total Profit:\", profit)\n",
    "print(\"Total Trades Executed:\", total_trades)\n"
   ]
  },
  {
   "cell_type": "code",
   "execution_count": null,
   "id": "670c3862",
   "metadata": {},
   "outputs": [],
   "source": [
    "output_file_path = 'C://Users//lenovo//Downloads//TSLA_signals.xlsx'\n",
    "data_with_signals.to_excel(output_file_path)"
   ]
  },
  {
   "cell_type": "code",
   "execution_count": null,
   "id": "affab0d1",
   "metadata": {},
   "outputs": [],
   "source": []
  }
 ],
 "metadata": {
  "kernelspec": {
   "display_name": "Python 3 (ipykernel)",
   "language": "python",
   "name": "python3"
  },
  "language_info": {
   "codemirror_mode": {
    "name": "ipython",
    "version": 3
   },
   "file_extension": ".py",
   "mimetype": "text/x-python",
   "name": "python",
   "nbconvert_exporter": "python",
   "pygments_lexer": "ipython3",
   "version": "3.11.5"
  }
 },
 "nbformat": 4,
 "nbformat_minor": 5
}
